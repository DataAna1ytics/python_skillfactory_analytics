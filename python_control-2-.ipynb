{
 "cells": [
  {
   "cell_type": "code",
   "execution_count": 1,
   "metadata": {
    "scrolled": false
   },
   "outputs": [
    {
     "data": {
      "text/plain": [
       "' 1 января 2016 года по 1 июля 2019 года\\n30177909\\nВ рамках второй гипотезы нам нужно оценить количество роботов, которые заходят на наш сайт. \\nТо есть: определить с каких источников и в какое время суток чаще всего заходят роботы. \\nРоботами могут быть пауки поисковых систем, которые индексируют контент блога, или же различные парсеры и агрегаторы контента. \\nЯндекс.Метрика позволяет находить этих роботов и показывает их в отдельном параметрe (ym:s:isRobot). \\nЭту гипотезу вам предстоит проверить самостоятельно.'"
      ]
     },
     "execution_count": 1,
     "metadata": {},
     "output_type": "execute_result"
    }
   ],
   "source": [
    "''' 1 января 2016 года по 1 июля 2019 года\n",
    "30177909\n",
    "В рамках второй гипотезы нам нужно оценить количество роботов, которые заходят на наш сайт. \n",
    "То есть: определить с каких источников и в какое время суток чаще всего заходят роботы. \n",
    "Роботами могут быть пауки поисковых систем, которые индексируют контент блога, или же различные парсеры и агрегаторы контента. \n",
    "Яндекс.Метрика позволяет находить этих роботов и показывает их в отдельном параметрe (ym:s:isRobot). \n",
    "Эту гипотезу вам предстоит проверить самостоятельно.'''"
   ]
  },
  {
   "cell_type": "code",
   "execution_count": 2,
   "metadata": {},
   "outputs": [],
   "source": [
    "import yaml\n",
    "from pathlib2 import Path\n",
    "import requests\n",
    "import json\n",
    "import pandas as pd\n",
    "\n",
    "from pprint import pprint\n",
    "\n",
    "my_token = '1234567890' #  тут надо указать свой yandex токен\n",
    "try:\n",
    "    pathstring = '/Users/phaggi/Documents/python/PythonNotes/analit/security.yml'\n",
    "    file = Path(pathstring)\n",
    "    with open(file, 'r') as input_file:\n",
    "        security = yaml.safe_load(input_file)\n",
    "        ya_token = security['ya_token']\n",
    "except:\n",
    "    ya_token = my_token\n",
    "\n",
    "date_from = '2016-01-01'\n",
    "date_to = '2019-07-01'\n",
    "ids = 30177909\n",
    "\n",
    "params = {'metrics': 'ym:s:visits', \n",
    "          'dimensions': 'ym:s:hour,ym:s:isRobot,ym:s:lastsignTrafficSource',\n",
    "          'date1': date_from,  \n",
    "          'date2': date_to, \n",
    "          'limit': 100000,\n",
    "          'accuracy':'full',\n",
    "          'ids': ids}\n",
    "headers = {'Authorization': 'OAuth ' + ya_token}\n",
    "\n",
    "url = \"https://api-metrika.yandex.net/stat/v1/data\"\n",
    "response = requests.get(url, params=params, headers=headers)"
   ]
  },
  {
   "cell_type": "code",
   "execution_count": 3,
   "metadata": {},
   "outputs": [],
   "source": [
    "metrika_data = response.json()\n",
    "# Создаём пустой список, в который будем добавлять словари в новом формате\n",
    "result = []\n",
    "\n",
    "# Начинаем перебор элементов старого отчёта (только раздел с данными)\n",
    "for data_item in metrika_data['data']:\n",
    "    # Создаём словарь для хранения текущих данных в новом формате \n",
    "    new_dict = {}  \n",
    "    # Обращаемся к разделу отчёта, содержащего метаданные\n",
    "    # Перебираем названия группировок, которые использовались в отчёте\n",
    "    for i,dimension in enumerate(data_item['dimensions']):\n",
    "        # Создаём в новом словаре ключ для каждой группировки\n",
    "        # Устанавливаем значение для каждого ключа\n",
    "        new_dict[metrika_data['query']['dimensions'][i]] = dimension['name']\n",
    "    # Те же действия выполняем для метрик\n",
    "    for i,metric in enumerate(data_item['metrics']):\n",
    "        new_dict[metrika_data['query']['metrics'][i]] = metric\n",
    "    # Добавляем созданный словарь в итоговый список result\n",
    "    result.append(new_dict)\n",
    "\n",
    "df = pd.read_json(json.dumps(result))"
   ]
  },
  {
   "cell_type": "code",
   "execution_count": 4,
   "metadata": {
    "scrolled": false
   },
   "outputs": [
    {
     "name": "stdout",
     "output_type": "stream",
     "text": [
      "Ответ: чаще всего заходят роботы с Direct traffic (1826 визитов), по времени чаще в 11:00 часов (179 визитов)\n"
     ]
    }
   ],
   "source": [
    "df['ym:s:visits'] = df['ym:s:visits'].astype('int')\n",
    "df = df.dropna(subset=['ym:s:lastsignTrafficSource'])\n",
    "df.columns = [col.replace('ym:s:','') for col in df.columns]\n",
    "df = df[df['isRobot'] == 'Robots']\n",
    "robots_hours = df.groupby('hour')['visits'].sum().idxmax()\n",
    "robots_hours_maxvalue = df.groupby('hour')['visits'].sum().max()\n",
    "robots_source = df.groupby('lastsignTrafficSource')['visits'].sum().idxmax()\n",
    "robots_source_max = df.groupby('lastsignTrafficSource')['visits'].sum().max()\n",
    "print('Ответ: чаще всего заходят роботы с {} ({} визитов), по времени чаще в {} часов ({} визитов)'\\\n",
    "      .format(robots_source, robots_source_max, robots_hours, robots_hours_maxvalue))"
   ]
  },
  {
   "cell_type": "code",
   "execution_count": null,
   "metadata": {},
   "outputs": [],
   "source": []
  }
 ],
 "metadata": {
  "kernelspec": {
   "display_name": "Python 3",
   "language": "python",
   "name": "python3"
  },
  "language_info": {
   "codemirror_mode": {
    "name": "ipython",
    "version": 3
   },
   "file_extension": ".py",
   "mimetype": "text/x-python",
   "name": "python",
   "nbconvert_exporter": "python",
   "pygments_lexer": "ipython3",
   "version": "3.7.6"
  }
 },
 "nbformat": 4,
 "nbformat_minor": 4
}
